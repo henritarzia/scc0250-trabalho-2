{
 "cells": [
  {
   "cell_type": "markdown",
   "metadata": {},
   "source": [
    "# Aula 11.Ex02 - Malhas e Texturas - Mapeamento de Texturas"
   ]
  },
  {
   "cell_type": "markdown",
   "metadata": {},
   "source": [
    "### Primeiro, vamos importar as bibliotecas necessárias.\n",
    "Verifique no código anterior um script para instalar as dependências necessárias (OpenGL e GLFW) antes de prosseguir."
   ]
  },
  {
   "cell_type": "code",
   "execution_count": 201,
   "metadata": {},
   "outputs": [],
   "source": [
    "import glfw\n",
    "from OpenGL.GL import *\n",
    "import OpenGL.GL.shaders\n",
    "import numpy as np\n",
    "import glm\n",
    "import math\n",
    "from PIL import Image"
   ]
  },
  {
   "cell_type": "markdown",
   "metadata": {},
   "source": [
    "### Inicializando janela"
   ]
  },
  {
   "cell_type": "code",
   "execution_count": 202,
   "metadata": {},
   "outputs": [],
   "source": [
    "glfw.init()\n",
    "glfw.window_hint(glfw.VISIBLE, glfw.FALSE);\n",
    "altura = 1080\n",
    "largura = 1920\n",
    "window = glfw.create_window(largura, altura, \"SCC0250 - Trabalho 2\", None, None)\n",
    "glfw.make_context_current(window)"
   ]
  },
  {
   "cell_type": "markdown",
   "metadata": {},
   "source": [
    "### GLSL (OpenGL Shading Language)\n",
    "\n",
    "Aqui veremos nosso primeiro código GLSL.\n",
    "\n",
    "É uma linguagem de shading de alto nível baseada na linguagem de programação C.\n",
    "\n",
    "Nós estamos escrevendo código GLSL como se \"strings\" de uma variável (mas podemos ler de arquivos texto). Esse código, depois, terá que ser compilado e linkado ao nosso programa. \n",
    "\n",
    "Iremos aprender GLSL conforme a necessidade do curso. Usarmos uma versão do GLSL mais antiga, compatível com muitos dispositivos."
   ]
  },
  {
   "cell_type": "markdown",
   "metadata": {},
   "source": [
    "### GLSL para Vertex Shader\n",
    "\n",
    "No Pipeline programável, podemos interagir com Vertex Shaders.\n",
    "\n",
    "No código abaixo, estamos fazendo o seguinte:\n",
    "\n",
    "* Definindo uma variável chamada position do tipo vec3.\n",
    "* Definindo matrizes Model, View e Projection que acumulam transformações geométricas 3D e permitem navegação no cenário.\n",
    "* void main() é o ponto de entrada do nosso programa (função principal)\n",
    "* gl_Position é uma variável especial do GLSL. Variáveis que começam com 'gl_' são desse tipo. Nesse caso, determina a posição de um vértice. Observe que todo vértice tem 4 coordenadas, por isso nós combinamos nossa variável vec2 com uma variável vec4. Além disso, nós modificamos nosso vetor com base nas transformações Model, View e Projection."
   ]
  },
  {
   "cell_type": "code",
   "execution_count": 203,
   "metadata": {},
   "outputs": [],
   "source": [
    "vertex_code = \"\"\"\n",
    "        attribute vec3 position;\n",
    "        attribute vec2 texture_coord;\n",
    "        varying vec2 out_texture;\n",
    "                \n",
    "        uniform mat4 model;\n",
    "        uniform mat4 view;\n",
    "        uniform mat4 projection;        \n",
    "        \n",
    "        void main(){\n",
    "            gl_Position = projection * view * model * vec4(position,1.0);\n",
    "            out_texture = vec2(texture_coord);\n",
    "        }\n",
    "        \"\"\""
   ]
  },
  {
   "cell_type": "markdown",
   "metadata": {},
   "source": [
    "### GLSL para Fragment Shader\n",
    "\n",
    "No Pipeline programável, podemos interagir com Fragment Shaders.\n",
    "\n",
    "No código abaixo, estamos fazendo o seguinte:\n",
    "\n",
    "* void main() é o ponto de entrada do nosso programa (função principal)\n",
    "* gl_FragColor é uma variável especial do GLSL. Variáveis que começam com 'gl_' são desse tipo. Nesse caso, determina a cor de um fragmento. Nesse caso é um ponto, mas poderia ser outro objeto (ponto, linha, triangulos, etc)."
   ]
  },
  {
   "cell_type": "markdown",
   "metadata": {},
   "source": [
    "### Possibilitando modificar a cor.\n",
    "\n",
    "Nos exemplos anteriores, a variável gl_FragColor estava definida de forma fixa (com cor R=0, G=0, B=0).\n",
    "\n",
    "Agora, nós vamos criar uma variável do tipo \"uniform\", de quatro posições (vec4), para receber o dado de cor do nosso programa rodando em CPU."
   ]
  },
  {
   "cell_type": "code",
   "execution_count": 204,
   "metadata": {},
   "outputs": [],
   "source": [
    "fragment_code = \"\"\"\n",
    "        uniform vec4 color;\n",
    "        varying vec2 out_texture;\n",
    "        uniform sampler2D samplerTexture;\n",
    "        \n",
    "        void main(){\n",
    "            vec4 texture = texture2D(samplerTexture, out_texture);\n",
    "            gl_FragColor = texture;\n",
    "        }\n",
    "        \"\"\""
   ]
  },
  {
   "cell_type": "markdown",
   "metadata": {},
   "source": [
    "### Requisitando slot para a GPU para nossos programas Vertex e Fragment Shaders"
   ]
  },
  {
   "cell_type": "code",
   "execution_count": 205,
   "metadata": {},
   "outputs": [],
   "source": [
    "# Request a program and shader slots from GPU\n",
    "program  = glCreateProgram()\n",
    "vertex   = glCreateShader(GL_VERTEX_SHADER)\n",
    "fragment = glCreateShader(GL_FRAGMENT_SHADER)\n"
   ]
  },
  {
   "cell_type": "markdown",
   "metadata": {},
   "source": [
    "### Associando nosso código-fonte aos slots solicitados"
   ]
  },
  {
   "cell_type": "code",
   "execution_count": 206,
   "metadata": {},
   "outputs": [],
   "source": [
    "# Set shaders source\n",
    "glShaderSource(vertex, vertex_code)\n",
    "glShaderSource(fragment, fragment_code)"
   ]
  },
  {
   "cell_type": "markdown",
   "metadata": {},
   "source": [
    "### Compilando o Vertex Shader\n",
    "\n",
    "Se há algum erro em nosso programa Vertex Shader, nosso app para por aqui."
   ]
  },
  {
   "cell_type": "code",
   "execution_count": 207,
   "metadata": {},
   "outputs": [],
   "source": [
    "# Compile shaders\n",
    "glCompileShader(vertex)\n",
    "if not glGetShaderiv(vertex, GL_COMPILE_STATUS):\n",
    "    error = glGetShaderInfoLog(vertex).decode()\n",
    "    print(error)\n",
    "    raise RuntimeError(\"Erro de compilacao do Vertex Shader\")\n"
   ]
  },
  {
   "cell_type": "markdown",
   "metadata": {},
   "source": [
    "### Compilando o Fragment Shader\n",
    "\n",
    "Se há algum erro em nosso programa Fragment Shader, nosso app para por aqui."
   ]
  },
  {
   "cell_type": "code",
   "execution_count": 208,
   "metadata": {},
   "outputs": [],
   "source": [
    "glCompileShader(fragment)\n",
    "if not glGetShaderiv(fragment, GL_COMPILE_STATUS):\n",
    "    error = glGetShaderInfoLog(fragment).decode()\n",
    "    print(error)\n",
    "    raise RuntimeError(\"Erro de compilacao do Fragment Shader\")"
   ]
  },
  {
   "cell_type": "markdown",
   "metadata": {},
   "source": [
    "### Associando os programas compilado ao programa principal"
   ]
  },
  {
   "cell_type": "code",
   "execution_count": 209,
   "metadata": {},
   "outputs": [],
   "source": [
    "# Attach shader objects to the program\n",
    "glAttachShader(program, vertex)\n",
    "glAttachShader(program, fragment)\n"
   ]
  },
  {
   "cell_type": "markdown",
   "metadata": {},
   "source": [
    "### Linkagem do programa"
   ]
  },
  {
   "cell_type": "code",
   "execution_count": 210,
   "metadata": {},
   "outputs": [],
   "source": [
    "# Build program\n",
    "glLinkProgram(program)\n",
    "if not glGetProgramiv(program, GL_LINK_STATUS):\n",
    "    print(glGetProgramInfoLog(program))\n",
    "    raise RuntimeError('Linking error')\n",
    "    \n",
    "# Make program the default program\n",
    "glUseProgram(program)"
   ]
  },
  {
   "cell_type": "markdown",
   "metadata": {},
   "source": [
    "### Preparando dados para enviar a GPU\n",
    "\n",
    "Nesse momento, nós compilamos nossos Vertex e Program Shaders para que a GPU possa processá-los.\n",
    "\n",
    "Por outro lado, as informações de vértices geralmente estão na CPU e devem ser transmitidas para a GPU.\n"
   ]
  },
  {
   "cell_type": "markdown",
   "metadata": {},
   "source": [
    "### Carregando Modelos (vértices e texturas) a partir de Arquivos\n",
    "\n",
    "A função abaixo carrega modelos a partir de arquivos no formato WaveFront.\n",
    "\n",
    "\n",
    "Para saber mais sobre o modelo, acesse: https://en.wikipedia.org/wiki/Wavefront_.obj_file\n",
    "\n",
    "\n",
    "Nos slides e vídeo-aula da Aula 11 - Parte 1, nós descrevemos o funcionamento desse formato."
   ]
  },
  {
   "cell_type": "code",
   "execution_count": 211,
   "metadata": {},
   "outputs": [],
   "source": [
    "def load_model_from_file(filename):\n",
    "    \"\"\"Loads a Wavefront OBJ file. \"\"\"\n",
    "    objects = {}\n",
    "    vertices = []\n",
    "    texture_coords = []\n",
    "    faces = []\n",
    "\n",
    "    material = None\n",
    "\n",
    "    # abre o arquivo obj para leitura\n",
    "    for line in open(filename, \"r\"): ## para cada linha do arquivo .obj\n",
    "        if line.startswith('#'): continue ## ignora comentarios\n",
    "        values = line.split() # quebra a linha por espaço\n",
    "        if not values: continue\n",
    "\n",
    "\n",
    "        ### recuperando vertices\n",
    "        if values[0] == 'v':\n",
    "            vertices.append(values[1:4])\n",
    "\n",
    "\n",
    "        ### recuperando coordenadas de textura\n",
    "        elif values[0] == 'vt':\n",
    "            texture_coords.append(values[1:3])\n",
    "\n",
    "        ### recuperando faces \n",
    "        elif values[0] in ('usemtl', 'usemat'):\n",
    "            material = values[1]\n",
    "        elif values[0] == 'f':\n",
    "            face = []\n",
    "            face_texture = []\n",
    "            for v in values[1:]:\n",
    "                w = v.split('/')\n",
    "                face.append(int(w[0]))\n",
    "                if len(w) >= 2 and len(w[1]) > 0:\n",
    "                    face_texture.append(int(w[1]))\n",
    "                else:\n",
    "                    face_texture.append(0)\n",
    "\n",
    "            faces.append((face, face_texture, material))\n",
    "\n",
    "    model = {}\n",
    "    model['vertices'] = vertices\n",
    "    model['texture'] = texture_coords\n",
    "    model['faces'] = faces\n",
    "\n",
    "    return model\n"
   ]
  },
  {
   "cell_type": "code",
   "execution_count": 212,
   "metadata": {},
   "outputs": [],
   "source": [
    "glEnable(GL_TEXTURE_2D)\n",
    "qtd_texturas = 10\n",
    "textures = glGenTextures(qtd_texturas)\n",
    "\n",
    "def load_texture_from_file(texture_id, img_textura):\n",
    "    glBindTexture(GL_TEXTURE_2D, texture_id)\n",
    "    glTexParameteri(GL_TEXTURE_2D, GL_TEXTURE_WRAP_S, GL_REPEAT)\n",
    "    glTexParameteri(GL_TEXTURE_2D, GL_TEXTURE_WRAP_T, GL_REPEAT)\n",
    "    glTexParameteri(GL_TEXTURE_2D, GL_TEXTURE_MIN_FILTER, GL_LINEAR)\n",
    "    glTexParameteri(GL_TEXTURE_2D, GL_TEXTURE_MAG_FILTER, GL_LINEAR)\n",
    "    img = Image.open(img_textura)\n",
    "    img_width = img.size[0]\n",
    "    img_height = img.size[1]\n",
    "    image_data = img.tobytes(\"raw\", \"RGB\", 0, -1)\n",
    "    #image_data = np.array(list(img.getdata()), np.uint8)\n",
    "    glTexImage2D(GL_TEXTURE_2D, 0, GL_RGB, img_width, img_height, 0, GL_RGB, GL_UNSIGNED_BYTE, image_data)\n",
    "\n",
    "    return\n",
    "    "
   ]
  },
  {
   "cell_type": "markdown",
   "metadata": {},
   "source": [
    "### A lista abaixo armazena todos os vertices carregados dos arquivos"
   ]
  },
  {
   "cell_type": "code",
   "execution_count": 213,
   "metadata": {},
   "outputs": [],
   "source": [
    "id_textura = 0\n",
    "vertices_list = []    \n",
    "textures_coord_list = []"
   ]
  },
  {
   "cell_type": "markdown",
   "metadata": {},
   "source": [
    "### Vamos carregar cada modelo e definir funções para desenhá-los"
   ]
  },
  {
   "cell_type": "code",
   "execution_count": 214,
   "metadata": {},
   "outputs": [],
   "source": [
    "# Insere modelo contido no arquivo \"file_name\" na lista de vértices\n",
    "def insert_model(file_name,texture_name):\n",
    "    global id_textura, vertices_list, textures_coord_list\n",
    "\n",
    "    # atribuindo o id do objeto de acordo com o valor atual\n",
    "    object_id = id_textura\n",
    "    id_textura += 1\n",
    "\n",
    "    modelo = load_model_from_file(file_name)\n",
    "\n",
    "    vi = len(vertices_list)   \n",
    "\n",
    "    ### inserindo vértices do modelo no vetor de vértices\n",
    "    print('Processando modelo ' + str(file_name) + ' ...')\n",
    "    print('Vértice inicial: ' + str(len(vertices_list)))\n",
    "\n",
    "    for face in modelo['faces']:\n",
    "        for vertice_id in face[0]:\n",
    "            vertices_list.append( modelo['vertices'][vertice_id-1] )\n",
    "        for texture_id in face[1]:\n",
    "            textures_coord_list.append( modelo['texture'][texture_id-1] )    \n",
    "\n",
    "    print('Vértice final: ' + str(len(vertices_list)))\n",
    "\n",
    "    vf = len(vertices_list)        \n",
    "\n",
    "    load_texture_from_file(object_id,texture_name)\n",
    "\n",
    "    return vi,(vf-vi),object_id\n",
    "    "
   ]
  },
  {
   "cell_type": "code",
   "execution_count": 215,
   "metadata": {},
   "outputs": [],
   "source": [
    "# Insere modelo contido com múltiplas texturas no arquivo \"file_name\" na lista de vértices\n",
    "def insert_model_mult_texture(file_name,texture_names):\n",
    "    global id_textura, vertices_list, textures_coord_list\n",
    "\n",
    "    n = len(texture_names)      # número de arquivos de textura\n",
    "    object_id = []              # lista de ids atribuídos às partes do objeto\n",
    "    vi = []                     # lista de vértices iniciais dos componentes do objeto\n",
    "    qtd = []                    # lista da quantidade de vértices de cada componente do objeto\n",
    "    faces_visited = []          # lista de faces visitadas\n",
    "    component = 0               # número de componentes\n",
    "\n",
    "     # atribuindo o id do objeto de acordo com o valor atual e o número de arquivos de textura\n",
    "    for i in range(0,n):\n",
    "        object_id.append(id_textura)\n",
    "        id_textura += 1\n",
    "\n",
    "    modelo = load_model_from_file(file_name) \n",
    "\n",
    "    ### inserindo vértices do modelo no vetor de vértices\n",
    "    print('Processando modelo ' + str(file_name) + ' ...')\n",
    "\n",
    "    for face in modelo['faces']:\n",
    "        if face[2] not in faces_visited:\n",
    "            print('Componente encontrado no vértice ' + str(len(vertices_list)))\n",
    "            vi.append(len(vertices_list))\n",
    "            faces_visited.append(face[2])\n",
    "            component += 1\n",
    "        if component > 1:\n",
    "            qtd.append(len(vertices_list) - vi[component - 2])\n",
    "        for vertice_id in face[0]:\n",
    "            vertices_list.append( modelo['vertices'][vertice_id-1] )\n",
    "        for texture_id in face[1]:\n",
    "            textures_coord_list.append( modelo['texture'][texture_id-1] )    \n",
    "\n",
    "    print('Vértice final: ' + str(len(vertices_list)))\n",
    "\n",
    "    qtd.append(len(vertices_list) - vi[component - 1])      \n",
    "\n",
    "    for i in range(0,n):\n",
    "        load_texture_from_file(object_id[i],texture_names[i])\n",
    "\n",
    "    return vi,qtd,object_id\n",
    "    "
   ]
  },
  {
   "cell_type": "code",
   "execution_count": 216,
   "metadata": {},
   "outputs": [],
   "source": [
    "# Função para retornar lista com três elementos\n",
    "def triple(first,second,third):\n",
    "\n",
    "    lista = [None] * 3\n",
    "    lista[0] = first\n",
    "    lista[1] = second\n",
    "    lista[2] = third\n",
    "\n",
    "    return lista"
   ]
  },
  {
   "cell_type": "code",
   "execution_count": 217,
   "metadata": {},
   "outputs": [
    {
     "name": "stdout",
     "output_type": "stream",
     "text": [
      "Processando modelo modelos/sky/cubo.obj ...\n",
      "Vértice inicial: 0\n",
      "Vértice final: 36\n"
     ]
    }
   ],
   "source": [
    "\n",
    "#-----------SKY------------#\n",
    "\n",
    "angle_sky = 0.0                                                                                       # ângulo de rotação\n",
    "r_sky = [0.0, 0.0, 1.0]                                                                               # rotação\n",
    "t_sky = [-25.0, -30.0, -25.0]                                                                              # translação\n",
    "s_sky = [50.0, 50.0, 50.0]                                                                            # escala\n",
    "vi_sky, qtd_sky, id_sky = insert_model('modelos/sky/cubo.obj','modelos/sky/sky_modified.png') # vértices"
   ]
  },
  {
   "cell_type": "code",
   "execution_count": 218,
   "metadata": {},
   "outputs": [
    {
     "name": "stdout",
     "output_type": "stream",
     "text": [
      "Processando modelo modelos/terrain/terrain.obj ...\n",
      "Vértice inicial: 36\n",
      "Vértice final: 42\n"
     ]
    }
   ],
   "source": [
    "\n",
    "#---------TERRAIN (GRASS)----------#\n",
    "\n",
    "angle_grass = 0.0                                                                                       # ângulo de rotação\n",
    "r_grass = [0.0, 0.0, 1.0]                                                                               # rotação\n",
    "t_grass = [1.0, -1.0, 0.0]                                                                              # translação\n",
    "s_grass = [18.0, 18.0, 18.0]                                                                            # escala\n",
    "vi_grass, qtd_grass, id_grass = insert_model('modelos/terrain/terrain.obj','modelos/terrain/grass.jpg') # vértices"
   ]
  },
  {
   "cell_type": "code",
   "execution_count": 219,
   "metadata": {},
   "outputs": [
    {
     "name": "stdout",
     "output_type": "stream",
     "text": [
      "Processando modelo modelos/birdbath/birdbath.obj ...\n",
      "Vértice inicial: 42\n",
      "Vértice final: 618\n"
     ]
    }
   ],
   "source": [
    "\n",
    "#-------------BIRDBATH-------------#\n",
    "\n",
    "angle_birdbath = 0.0                                                                                                   # ângulo de rotação\n",
    "r_birdbath = triple(0.0, 0.0, 1.0)                                                                                     # rotação\n",
    "t_birdbath = triple(8.0, -1.0, 0.0)                                                                                    # translação\n",
    "s_birdbath = triple(2.0,2.0,2.0)                                                                                       # escala\n",
    "vi_birdbath, qtd_birdbath, id_birdbath = insert_model('modelos/birdbath/birdbath.obj','modelos/birdbath/birdbath.jpg') # vértices"
   ]
  },
  {
   "cell_type": "code",
   "execution_count": 220,
   "metadata": {},
   "outputs": [
    {
     "name": "stdout",
     "output_type": "stream",
     "text": [
      "Processando modelo modelos/eagle/eagle.obj ...\n",
      "Vértice inicial: 618\n",
      "Vértice final: 8151\n"
     ]
    }
   ],
   "source": [
    "\n",
    "#-------------EAGLE-------------#\n",
    "\n",
    "angle_eagle = 0.0                                                                                 # ângulo de rotação\n",
    "r_eagle = triple(0.0,1.0,0.0)                                                                     # rotação\n",
    "t_eagle = triple(0.0,7.0,0.0)                                                                     # translação\n",
    "s_eagle = triple(1.0,1.0,1.0)                                                                     # escala\n",
    "vi_eagle, qtd_eagle, id_eagle = insert_model('modelos/eagle/eagle.obj','modelos/eagle/eagle.png') # vértices"
   ]
  },
  {
   "cell_type": "code",
   "execution_count": 221,
   "metadata": {},
   "outputs": [
    {
     "name": "stdout",
     "output_type": "stream",
     "text": [
      "Processando modelo modelos/tree/tree.obj ...\n",
      "Componente encontrado no vértice 8151\n",
      "Componente encontrado no vértice 14130\n",
      "Vértice final: 20100\n"
     ]
    }
   ],
   "source": [
    "\n",
    "#-------------TREE-------------#\n",
    "\n",
    "textures_tree = []\n",
    "textures_tree.append('modelos/tree/trunk.png')\n",
    "textures_tree.append('modelos/tree/leaves.png')\n",
    "\n",
    "angle_tree = 0.0                                                                              # ângulo de rotação\n",
    "r_tree = [0.0, 0.0, 1.0]                                                                      # rotação\n",
    "t_tree = [6.0, 3.0, -4.0]                                                                     # translação\n",
    "s_tree = [200.0, 200.0, 200.0]                                                                # escala\n",
    "vi_tree, qtd_tree, id_tree = insert_model_mult_texture('modelos/tree/tree.obj',textures_tree) # vértices"
   ]
  },
  {
   "cell_type": "code",
   "execution_count": 222,
   "metadata": {},
   "outputs": [
    {
     "name": "stdout",
     "output_type": "stream",
     "text": [
      "Processando modelo modelos/museum/museum.obj ...\n",
      "Vértice inicial: 20100\n",
      "Vértice final: 20412\n"
     ]
    }
   ],
   "source": [
    "\n",
    "#-------------MUSEUM-------------#\n",
    "\n",
    "angle_museum = 0.0                                                                                          # ângulo de rotação\n",
    "r_museum = triple(0.0, 0.0, 1.0)                                                                            # rotação\n",
    "t_museum = triple(-5.0, 0.7, 0.0)                                                                           # translação\n",
    "s_museum = triple(0.1,0.1,0.1)                                                                              # escala\n",
    "vi_museum, qtd_museum, id_museum = insert_model('modelos/museum/museum.obj','modelos/museum/museum.jpeg')   # vértices"
   ]
  },
  {
   "cell_type": "code",
   "execution_count": 223,
   "metadata": {},
   "outputs": [
    {
     "name": "stdout",
     "output_type": "stream",
     "text": [
      "Processando modelo modelos/floor/floor.obj ...\n",
      "Vértice inicial: 20412\n",
      "Vértice final: 20418\n"
     ]
    }
   ],
   "source": [
    "\n",
    "#-------FLOOR (MUSEUM)-------#\n",
    "\n",
    "angle_floor_m = 0.0                                                                                          # ângulo de rotação\n",
    "r_floor_m = triple(0.0, 0.0, 1.0)                                                                            # rotação\n",
    "t_floor_m = triple(-5.0, -0.55, 0.0)                                                                         # translação\n",
    "s_floor_m = triple(6.25,1,3.8)                                                                               # escala\n",
    "vi_floor_m, qtd_floor_m, id_floor_m = insert_model('modelos/floor/floor.obj','modelos/floor/brick_hexagonal.png')   # vértices"
   ]
  },
  {
   "cell_type": "code",
   "execution_count": 224,
   "metadata": {},
   "outputs": [
    {
     "name": "stdout",
     "output_type": "stream",
     "text": [
      "Processando modelo modelos/duck/duck.obj ...\n",
      "Vértice inicial: 20418\n",
      "Vértice final: 83586\n"
     ]
    }
   ],
   "source": [
    "\n",
    "#-------------DUCK-------------#\n",
    "\n",
    "angle_duck = 0.0                                                                             # ângulo de rotação\n",
    "r_duck = triple(0.0, 0.0, 1.0)                                                               # rotação\n",
    "t_duck = triple(-5.0,0.1, 0.0)                                                               # translação\n",
    "s_duck = triple(0.28,0.28,0.28)                                                              # escala\n",
    "vi_duck, qtd_duck, id_duck = insert_model('modelos/duck/duck.obj','modelos/duck/duck.png')   # vértices"
   ]
  },
  {
   "cell_type": "code",
   "execution_count": 225,
   "metadata": {},
   "outputs": [
    {
     "name": "stdout",
     "output_type": "stream",
     "text": [
      "Processando modelo modelos/seeds/seeds.obj ...\n",
      "Vértice inicial: 83586\n",
      "Vértice final: 85350\n"
     ]
    }
   ],
   "source": [
    "\n",
    "#-------------SEEDS-------------#\n",
    "\n",
    "angle_seeds = 0.0                                                                                 # ângulo de rotação\n",
    "r_seeds = triple(0.0,0.0, 1.0)                                                                    # rotação\n",
    "t_seeds = triple(4.0,-1.0,-2.0)                                                                   # translação\n",
    "s_seeds = triple(12.0,12.0,12.0)                                                                  # escala\n",
    "vi_seeds, qtd_seeds, id_seeds = insert_model('modelos/seeds/seeds.obj','modelos/seeds/seeds.png') # vértices"
   ]
  },
  {
   "cell_type": "code",
   "execution_count": 226,
   "metadata": {},
   "outputs": [
    {
     "name": "stdout",
     "output_type": "stream",
     "text": [
      "Processando modelo modelos/apple/apple.obj ...\n",
      "Vértice inicial: 85350\n",
      "Vértice final: 86580\n"
     ]
    }
   ],
   "source": [
    "\n",
    "#-------------APPLES-------------#\n",
    "\n",
    "angle_apple = triple(10.0,0.0,15.0)                                                               # ângulo de rotação\n",
    "r_apple = triple([1.0,0.0,1.0],[0.0,0.0,1.0],[0.0,0.0,1.0])                                       # rotação                                                                    \n",
    "t_apple = triple([3.6,-1.4,0.2],[4.2,-1.0,-0.2],[3.6,-2.0,-0.5])                                  # translação\n",
    "s_apple = triple([4.0,4.0,4.0],[4.0,4.0,4.0],[4.0,4.0,4.0])                                       # escala\n",
    "vi_apple, qtd_apple, id_apple = insert_model('modelos/apple/apple.obj','modelos/apple/apple.png') # vértices"
   ]
  },
  {
   "cell_type": "code",
   "execution_count": 227,
   "metadata": {},
   "outputs": [
    {
     "name": "stdout",
     "output_type": "stream",
     "text": [
      "Processando modelo modelos/campfire/campfire.obj ...\n",
      "Vértice inicial: 86580\n",
      "Vértice final: 89562\n"
     ]
    }
   ],
   "source": [
    "\n",
    "#-------------CAMPFIRE-------------#\n",
    "\n",
    "angle_campfire = 0.0                                                                                                   # ângulo de rotação\n",
    "r_campfire = triple(0.0,0.0,1.0)                                                                                       # rotação\n",
    "t_campfire = triple(8.0,-1.0,7.0)                                                                                      # translação\n",
    "s_campfire = triple(0.02,0.02,0.02)                                                                                    # escala\n",
    "vi_campfire, qtd_campfire, id_campfire = insert_model('modelos/campfire/campfire.obj','modelos/campfire/campfire.png') # vértices"
   ]
  },
  {
   "cell_type": "code",
   "execution_count": 228,
   "metadata": {},
   "outputs": [
    {
     "name": "stdout",
     "output_type": "stream",
     "text": [
      "Processando modelo modelos/allegorie_sculpture/Allegorie_modifiedobj.obj ...\n",
      "Vértice inicial: 89562\n",
      "Vértice final: 1859604\n"
     ]
    }
   ],
   "source": [
    "\n",
    "#-------ALLEGORIE SCULPTURE-------#\n",
    "\n",
    "angle_allegorie = 0.0                 # ângulo de rotação\n",
    "r_allegorie = triple(0.0,0.0,1.0)     # rotação\n",
    "t_allegorie = triple(0.5,-1.0,0.0)    # translação\n",
    "s_allegorie = triple(0.1,0.1,0.1)     # escala\n",
    "vi_allegorie, qtd_allegorie, id_allegorie = insert_model('modelos/allegorie_sculpture/Allegorie_modifiedobj.obj','modelos/allegorie_sculpture/allegorie.png') # vértices"
   ]
  },
  {
   "cell_type": "code",
   "execution_count": 229,
   "metadata": {},
   "outputs": [
    {
     "name": "stdout",
     "output_type": "stream",
     "text": [
      "Processando modelo modelos/maternidade_sculpture/maternidade_modified.obj ...\n",
      "Vértice inicial: 1859604\n",
      "Vértice final: 1869951\n"
     ]
    }
   ],
   "source": [
    "\n",
    "#------MATERNIDADE SCULPTURE------#\n",
    "\n",
    "angle_maternidade = 0.0                 # ângulo de rotação\n",
    "r_maternidade = triple(0.0,0.0,1.0)     # rotação\n",
    "t_maternidade = triple(-8.0,-0.7,-2.6)  # translação\n",
    "s_maternidade = triple(1.0,1.0,1.0)     # escala\n",
    "vi_maternidade, qtd_maternidade, id_maternidade = insert_model('modelos/maternidade_sculpture/maternidade_modified.obj','modelos/maternidade_sculpture/maternidade.jpg') # vértices"
   ]
  },
  {
   "cell_type": "code",
   "execution_count": 230,
   "metadata": {},
   "outputs": [
    {
     "name": "stdout",
     "output_type": "stream",
     "text": [
      "Processando modelo modelos/paints/paint-01.obj ...\n",
      "Vértice inicial: 1869951\n",
      "Vértice final: 1870053\n",
      "Processando modelo modelos/paints/paint-02.obj ...\n",
      "Vértice inicial: 1870053\n",
      "Vértice final: 1870155\n"
     ]
    }
   ],
   "source": [
    "\n",
    "#------PAINTS------#\n",
    "\n",
    "angle_paint_1 = 0.0                 # ângulo de rotação\n",
    "r_paint_1 = triple(0.0,0.0,1.0)     # rotação\n",
    "t_paint_1 = triple(-2.0,1.5,-3.7)   # translação\n",
    "s_paint_1 = triple(0.2,0.2,0.2)     # escala\n",
    "vi_paint_1, qtd_paint_1, id_paint_1 = insert_model('modelos/paints/paint-01.obj','modelos/paints/paint-01.jpg') # vértices\n",
    "\n",
    "angle_paint_2 = 0.0                    # ângulo de rotação\n",
    "r_paint_2 = triple(0.0,0.0,1.0)        # rotação\n",
    "t_paint_2 = triple(-0.5,1.0,-3.7)      # translação\n",
    "s_paint_2 = triple(0.15,0.15,0.15)     # escala\n",
    "vi_paint_2, qtd_paint_2, id_paint_2 = insert_model('modelos/paints/paint-02.obj','modelos/paints/paint-02.jpg') # vértices"
   ]
  },
  {
   "cell_type": "code",
   "execution_count": 231,
   "metadata": {},
   "outputs": [],
   "source": [
    "# House:\n",
    "# Author: PoossyJooce\n",
    "# License: https://creativecommons.org/licenses/by/4.0/\n",
    "\n",
    "# Duck:\n",
    "# Author: tantangula\n",
    "# License: https://creativecommons.org/licenses/by/4.0/\n",
    "\n",
    "# Museum (modificado):\n",
    "# Author: Veerle Brugman\n",
    "# License: https://creativecommons.org/licenses/by-nc-nd/4.0/\n",
    "\n",
    "# Tree:\n",
    "# Author: Smurrie\n",
    "# License: https://creativecommons.org/licenses/by-nc-nd/4.0/"
   ]
  },
  {
   "cell_type": "markdown",
   "metadata": {},
   "source": [
    "### Para enviar nossos dados da CPU para a GPU, precisamos requisitar slots.\n",
    "\n",
    "Nós agora vamos requisitar dois slots.\n",
    "* Um para enviar coordenadas dos vértices.\n",
    "* Outros para enviar coordenadas de texturas."
   ]
  },
  {
   "cell_type": "code",
   "execution_count": 232,
   "metadata": {},
   "outputs": [],
   "source": [
    "# Request a buffer slot from GPU\n",
    "buffer = glGenBuffers(2)\n"
   ]
  },
  {
   "cell_type": "markdown",
   "metadata": {},
   "source": [
    "###  Enviando coordenadas de vértices para a GPU"
   ]
  },
  {
   "cell_type": "code",
   "execution_count": 233,
   "metadata": {},
   "outputs": [],
   "source": [
    "vertices = np.zeros(len(vertices_list), [(\"position\", np.float32, 3)])\n",
    "vertices['position'] = vertices_list\n",
    "\n",
    "# Upload data\n",
    "glBindBuffer(GL_ARRAY_BUFFER, buffer[0])\n",
    "glBufferData(GL_ARRAY_BUFFER, vertices.nbytes, vertices, GL_STATIC_DRAW)\n",
    "stride = vertices.strides[0]\n",
    "offset = ctypes.c_void_p(0)\n",
    "loc_vertices = glGetAttribLocation(program, \"position\")\n",
    "glEnableVertexAttribArray(loc_vertices)\n",
    "glVertexAttribPointer(loc_vertices, 3, GL_FLOAT, False, stride, offset)\n"
   ]
  },
  {
   "cell_type": "markdown",
   "metadata": {},
   "source": [
    "###  Enviando coordenadas de textura para a GPU"
   ]
  },
  {
   "cell_type": "code",
   "execution_count": 234,
   "metadata": {},
   "outputs": [],
   "source": [
    "textures = np.zeros(len(textures_coord_list), [(\"position\", np.float32, 2)]) # duas coordenadas\n",
    "textures['position'] = textures_coord_list\n",
    "\n",
    "# Upload data\n",
    "glBindBuffer(GL_ARRAY_BUFFER, buffer[1])\n",
    "glBufferData(GL_ARRAY_BUFFER, textures.nbytes, textures, GL_STATIC_DRAW)\n",
    "stride = textures.strides[0]\n",
    "offset = ctypes.c_void_p(0)\n",
    "loc_texture_coord = glGetAttribLocation(program, \"texture_coord\")\n",
    "glEnableVertexAttribArray(loc_texture_coord)\n",
    "glVertexAttribPointer(loc_texture_coord, 2, GL_FLOAT, False, stride, offset)\n"
   ]
  },
  {
   "cell_type": "markdown",
   "metadata": {},
   "source": [
    "### Desenhando nossos modelos\n",
    "* Cada modelo tem um Model para posicioná-los no mundo.\n",
    "* É necessário saber qual a posição inicial e total de vértices de cada modelo\n",
    "* É necessário indicar qual o ID da textura do modelo\n"
   ]
  },
  {
   "cell_type": "code",
   "execution_count": 235,
   "metadata": {},
   "outputs": [],
   "source": [
    "# Desenha o objeto com as propriedades especificadas\n",
    "def draw_object(angle,r,s,t,vi,qtd,texture_id):\n",
    "\n",
    "    global vertices\n",
    "\n",
    "    # aplica a matriz model\n",
    "    mat_model = model(angle, r, t, s)\n",
    "    loc_model = glGetUniformLocation(program, \"model\")\n",
    "    glUniformMatrix4fv(loc_model, 1, GL_TRUE, mat_model) \n",
    "\n",
    "    # define o id da textura do modelo\n",
    "    glBindTexture(GL_TEXTURE_2D, texture_id)\n",
    "\n",
    "    # desenha o objeto \n",
    "    glDrawArrays(GL_TRIANGLES, vi, qtd)\n",
    "\n",
    "    return  "
   ]
  },
  {
   "cell_type": "code",
   "execution_count": 236,
   "metadata": {},
   "outputs": [],
   "source": [
    "# Desenha objeto com múltiplas texturas e com as propriedades especificadas\n",
    "def draw_object_mult_texture(angle,r,s,t,vi,qtd,texture_id):\n",
    "\n",
    "    global vertices\n",
    "\n",
    "    # aplica a matriz model\n",
    "    mat_model = model(angle, r, t, s)\n",
    "    loc_model = glGetUniformLocation(program, \"model\")\n",
    "    glUniformMatrix4fv(loc_model, 1, GL_TRUE, mat_model) \n",
    "\n",
    "    n = len(texture_id)\n",
    "\n",
    "    for i in range(0,n):\n",
    "        glBindTexture(GL_TEXTURE_2D, texture_id[i]) # define o id da textura do modelo\n",
    "        glDrawArrays(GL_TRIANGLES, vi[i], qtd[i])   # desenha o objeto \n",
    "\n",
    "    return  "
   ]
  },
  {
   "cell_type": "markdown",
   "metadata": {},
   "source": [
    "### Eventos para modificar a posição da câmera\n",
    "* Usei as teclas A, S, D e W para movimentação no espaço tridimensional\n",
    "* Usei a posição do mouse para \"direcionar\" a câmera"
   ]
  },
  {
   "cell_type": "code",
   "execution_count": 237,
   "metadata": {},
   "outputs": [],
   "source": [
    "cameraPos   = glm.vec3(0.0,  0.0,  1.0);\n",
    "cameraFront = glm.vec3(0.0,  0.0, -1.0);\n",
    "cameraUp    = glm.vec3(0.0,  1.0,  0.0);\n",
    "\n",
    "\n",
    "polygonal_mode = False\n",
    "\n",
    "def key_event(window,key,scancode,action,mods):\n",
    "    global cameraPos, cameraFront, cameraUp, polygonal_mode, t_sky\n",
    "    \n",
    "    cameraSpeed = 0.2\n",
    "    if key == 87 and (action==1 or action==2): # tecla W\n",
    "        cameraPos += cameraSpeed * cameraFront\n",
    "    \n",
    "    if key == 83 and (action==1 or action==2): # tecla S\n",
    "        cameraPos -= cameraSpeed * cameraFront\n",
    "    \n",
    "    if key == 65 and (action==1 or action==2): # tecla A\n",
    "        cameraPos -= glm.normalize(glm.cross(cameraFront, cameraUp)) * cameraSpeed\n",
    "        \n",
    "    if key == 68 and (action==1 or action==2): # tecla D\n",
    "        cameraPos += glm.normalize(glm.cross(cameraFront, cameraUp)) * cameraSpeed\n",
    "        \n",
    "    if key == 80 and action==1 and polygonal_mode==True:\n",
    "        polygonal_mode=False\n",
    "    else:\n",
    "        if key == 80 and action==1 and polygonal_mode==False:\n",
    "            polygonal_mode=True\n",
    "            \n",
    "    if key == 84 and action==1:\n",
    "        t_sky[0] += 0.25\n",
    "    if key == 89 and action==1:\n",
    "        t_sky[0] -= 0.25\n",
    "    if key == 71 and action==1:\n",
    "        t_sky[1] += 0.25\n",
    "    if key == 72 and action==1:\n",
    "        t_sky[1] -= 0.25\n",
    "    if key == 66 and action==1:\n",
    "        t_sky[2] += 0.25\n",
    "    if key == 78 and action==1:\n",
    "        t_sky[2] -= 0.25\n",
    "        \n",
    "firstMouse = True\n",
    "yaw = -90.0 \n",
    "pitch = 0.0\n",
    "lastX =  largura/2\n",
    "lastY =  altura/2\n",
    "\n",
    "def mouse_event(window, xpos, ypos):\n",
    "    global firstMouse, cameraFront, yaw, pitch, lastX, lastY\n",
    "    if firstMouse:\n",
    "        lastX = xpos\n",
    "        lastY = ypos\n",
    "        firstMouse = False\n",
    "\n",
    "    xoffset = xpos - lastX\n",
    "    yoffset = lastY - ypos\n",
    "    lastX = xpos\n",
    "    lastY = ypos\n",
    "\n",
    "    sensitivity = 0.3 \n",
    "    xoffset *= sensitivity\n",
    "    yoffset *= sensitivity\n",
    "\n",
    "    yaw += xoffset;\n",
    "    pitch += yoffset;\n",
    "\n",
    "    \n",
    "    if pitch >= 90.0: pitch = 90.0\n",
    "    if pitch <= -90.0: pitch = -90.0\n",
    "\n",
    "    front = glm.vec3()\n",
    "    front.x = math.cos(glm.radians(yaw)) * math.cos(glm.radians(pitch))\n",
    "    front.y = math.sin(glm.radians(pitch))\n",
    "    front.z = math.sin(glm.radians(yaw)) * math.cos(glm.radians(pitch))\n",
    "    cameraFront = glm.normalize(front)\n",
    "\n",
    "\n",
    "    \n",
    "glfw.set_key_callback(window,key_event)\n",
    "glfw.set_cursor_pos_callback(window, mouse_event)\n"
   ]
  },
  {
   "cell_type": "markdown",
   "metadata": {},
   "source": [
    "### Matrizes Model, View e Projection\n",
    "\n",
    "Teremos uma aula específica para entender o seu funcionamento."
   ]
  },
  {
   "cell_type": "code",
   "execution_count": 238,
   "metadata": {},
   "outputs": [],
   "source": [
    "def model(angle, r, t, s):\n",
    "    \n",
    "    angle = math.radians(angle)\n",
    "    \n",
    "    matrix_transform = glm.mat4(1.0)                                                   # instanciando uma matriz identidade\n",
    "    matrix_transform = glm.rotate(matrix_transform, angle, glm.vec3(r[0], r[1], r[2])) # aplicando rotacao \n",
    "    matrix_transform = glm.translate(matrix_transform, glm.vec3(t[0], t[1], t[2]))     # aplicando translacao    \n",
    "    matrix_transform = glm.scale(matrix_transform, glm.vec3(s[0], s[1], s[2]))         # aplicando escala\n",
    "    matrix_transform = np.array(matrix_transform).T                                    # pegando a transposta da matriz (glm trabalha com ela invertida)\n",
    "    \n",
    "    return matrix_transform\n",
    "\n",
    "def view():\n",
    "    global cameraPos, cameraFront, cameraUp\n",
    "    mat_view = glm.lookAt(cameraPos, cameraPos + cameraFront, cameraUp);\n",
    "    mat_view = np.array(mat_view)\n",
    "    return mat_view\n",
    "\n",
    "def projection():\n",
    "    global altura, largura\n",
    "    # perspective parameters: fovy, aspect, near, far\n",
    "    mat_projection = glm.perspective(glm.radians(45.0), largura/altura, 0.1, 1000.0)\n",
    "    mat_projection = np.array(mat_projection)    \n",
    "    return mat_projection\n",
    "    "
   ]
  },
  {
   "cell_type": "markdown",
   "metadata": {},
   "source": [
    "### Nesse momento, nós exibimos a janela!\n"
   ]
  },
  {
   "cell_type": "code",
   "execution_count": 239,
   "metadata": {},
   "outputs": [],
   "source": [
    "glfw.show_window(window)\n",
    "glfw.set_cursor_pos(window, lastX, lastY)"
   ]
  },
  {
   "cell_type": "markdown",
   "metadata": {},
   "source": [
    "### Loop principal da janela.\n",
    "Enquanto a janela não for fechada, esse laço será executado. É neste espaço que trabalhamos com algumas interações com a OpenGL."
   ]
  },
  {
   "cell_type": "code",
   "execution_count": 240,
   "metadata": {},
   "outputs": [],
   "source": [
    "glEnable(GL_DEPTH_TEST) ### importante para 3D\n",
    "\n",
    "global t_eagle, angle_eagle\n",
    "\n",
    "while not glfw.window_should_close(window):\n",
    "\n",
    "    #atualização de variáveis para animação dos modelos\n",
    "    angle_eagle += 1.0\n",
    "    if(angle_eagle == 360.0): angle_eagle = 0.0\n",
    "    t_eagle[0] = 3*math.cos(math.radians(angle_eagle))\n",
    "    t_eagle[2] = 3*math.sin(math.radians(angle_eagle))\n",
    "\n",
    "    glfw.poll_events() \n",
    "    \n",
    "    glClear(GL_COLOR_BUFFER_BIT | GL_DEPTH_BUFFER_BIT)\n",
    "    \n",
    "    glClearColor(1.0, 1.0, 1.0, 1.0)\n",
    "    \n",
    "    if polygonal_mode == True: glPolygonMode(GL_FRONT_AND_BACK,GL_LINE)\n",
    "    if polygonal_mode == False: glPolygonMode(GL_FRONT_AND_BACK,GL_FILL)\n",
    "    \n",
    "    #sky\n",
    "    draw_object(angle_sky,r_sky,s_sky,t_sky,vi_sky,qtd_sky,id_sky)\n",
    "    #terrain\n",
    "    draw_object(angle_grass,r_grass,s_grass,t_grass,vi_grass,qtd_grass,id_grass)\n",
    "    #birdbath\n",
    "    draw_object(angle_birdbath,r_birdbath,s_birdbath,t_birdbath,vi_birdbath,qtd_birdbath,id_birdbath) \n",
    "    #eagle\n",
    "    draw_object(angle_eagle,r_eagle,s_eagle,t_eagle,vi_eagle,qtd_eagle,id_eagle) \n",
    "    #museum\n",
    "    draw_object(angle_museum,r_museum,s_museum,t_museum,vi_museum,qtd_museum,id_museum)\n",
    "    draw_object(angle_floor_m,r_floor_m,s_floor_m,t_floor_m,vi_floor_m,qtd_floor_m,id_floor_m)\n",
    "    #duck\n",
    "    draw_object(angle_duck,r_duck,s_duck,t_duck,vi_duck,qtd_duck,id_duck)\n",
    "    #tree\n",
    "    draw_object_mult_texture(angle_tree,r_tree,s_tree,t_tree,vi_tree,qtd_tree,id_tree)\n",
    "    #seeds\n",
    "    draw_object(angle_seeds,r_seeds,s_seeds,t_seeds,vi_seeds,qtd_seeds,id_seeds)\n",
    "    #apples\n",
    "    draw_object(angle_apple[0],r_apple[0],s_apple[0],t_apple[0],vi_apple,qtd_apple,id_apple)\n",
    "    draw_object(angle_apple[1],r_apple[1],s_apple[1],t_apple[1],vi_apple,qtd_apple,id_apple)\n",
    "    draw_object(angle_apple[2],r_apple[2],s_apple[2],t_apple[2],vi_apple,qtd_apple,id_apple)\n",
    "    #campfire\n",
    "    draw_object(angle_campfire,r_campfire,s_campfire,t_campfire,vi_campfire,qtd_campfire,id_campfire)\n",
    "    #sculptures\n",
    "    draw_object(angle_allegorie,r_allegorie,s_allegorie,t_allegorie,vi_allegorie,qtd_allegorie,id_allegorie)\n",
    "    draw_object(angle_maternidade,r_maternidade,s_maternidade,t_maternidade,vi_maternidade,qtd_maternidade,id_maternidade)\n",
    "    #paints\n",
    "    draw_object(angle_paint_1,r_paint_1,s_paint_1,t_paint_1,vi_paint_1,qtd_paint_1,id_paint_1)\n",
    "    draw_object(angle_paint_2,r_paint_2,s_paint_2,t_paint_2,vi_paint_2,qtd_paint_2,id_paint_2)\n",
    "\n",
    "    mat_view = view()\n",
    "    loc_view = glGetUniformLocation(program, \"view\")\n",
    "    glUniformMatrix4fv(loc_view, 1, GL_FALSE, mat_view)\n",
    "\n",
    "    mat_projection = projection()\n",
    "    loc_projection = glGetUniformLocation(program, \"projection\")\n",
    "    glUniformMatrix4fv(loc_projection, 1, GL_FALSE, mat_projection)    \n",
    "    \n",
    "    glfw.swap_buffers(window)\n",
    "\n",
    "glfw.terminate()"
   ]
  }
 ],
 "metadata": {
  "finalized": {
   "timestamp": 1589232864147,
   "trusted": true
  },
  "kernelspec": {
   "display_name": "Python 3",
   "language": "python",
   "name": "python3"
  },
  "language_info": {
   "codemirror_mode": {
    "name": "ipython",
    "version": 3
   },
   "file_extension": ".py",
   "mimetype": "text/x-python",
   "name": "python",
   "nbconvert_exporter": "python",
   "pygments_lexer": "ipython3",
   "version": "3.6.9"
  }
 },
 "nbformat": 4,
 "nbformat_minor": 2
}
